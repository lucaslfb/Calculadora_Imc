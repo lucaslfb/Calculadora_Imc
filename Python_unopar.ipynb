{
  "nbformat": 4,
  "nbformat_minor": 0,
  "metadata": {
    "colab": {
      "provenance": [],
      "authorship_tag": "ABX9TyPtHB86pRzOgVyaeckPuS/D",
      "include_colab_link": true
    },
    "kernelspec": {
      "name": "python3",
      "display_name": "Python 3"
    },
    "language_info": {
      "name": "python"
    }
  },
  "cells": [
    {
      "cell_type": "markdown",
      "metadata": {
        "id": "view-in-github",
        "colab_type": "text"
      },
      "source": [
        "<a href=\"https://colab.research.google.com/github/lucaslfb/Calculadora_Imc/blob/main/Python_unopar.ipynb\" target=\"_parent\"><img src=\"https://colab.research.google.com/assets/colab-badge.svg\" alt=\"Open In Colab\"/></a>"
      ]
    },
    {
      "cell_type": "code",
      "source": [
        "class Paciente:\n",
        "    def __init__(self):\n",
        "        self._peso = None\n",
        "        self._altura = None\n",
        "\n",
        "    def coletar_dados(self):\n",
        "        peso_kg = float(input(\"Digite seu peso em Kg: \"))\n",
        "        altura_cm = float(input(\"Digite sua altura em centímetros: \"))\n",
        "        self.set_peso(peso_kg)\n",
        "        self.set_altura(altura_cm / 100)\n",
        "\n",
        "    def calcular_imc(self):\n",
        "        imc = self.get_peso() / (self.get_altura() ** 2)\n",
        "        return imc\n",
        "\n",
        "    def classificar_imc(self, imc):\n",
        "        if imc <= 18.5:\n",
        "            return \"Abaixo do peso normal.\"\n",
        "        elif imc <= 24.9:\n",
        "            return \"Peso normal.\"\n",
        "        elif imc <= 29.9:\n",
        "            return \"Excesso de peso.\"\n",
        "        elif imc <= 34.9:\n",
        "            return \"Obesidade classe I.\"\n",
        "        elif imc <= 39.9:\n",
        "            return \"Obesidade classe II.\"\n",
        "        elif imc >= 40:\n",
        "            return \"Obesidade classe III.\"\n",
        "\n",
        "    def get_peso(self):\n",
        "        return self._peso\n",
        "\n",
        "    def set_peso(self, novo_peso):\n",
        "        self._peso = novo_peso\n",
        "\n",
        "    def get_altura(self):\n",
        "        return self._altura\n",
        "\n",
        "    def set_altura(self, nova_altura):\n",
        "        self._altura = nova_altura\n",
        "\n",
        "paciente = Paciente()\n",
        "\n",
        "paciente.coletar_dados()\n",
        "\n",
        "resultado = paciente.calcular_imc()\n",
        "\n",
        "classificacao = paciente.classificar_imc(resultado)\n",
        "\n",
        "print(f\"Seu IMC é: {resultado:.2f}, isso significa: {classificacao}\")"
      ],
      "metadata": {
        "id": "wDeJwVsGfIOf"
      },
      "execution_count": null,
      "outputs": []
    }
  ]
}